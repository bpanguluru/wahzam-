{
 "cells": [
  {
   "cell_type": "code",
   "execution_count": 1,
   "metadata": {
    "scrolled": false
   },
   "outputs": [],
   "source": [
    "import wahzam\n"
   ]
  },
  {
   "cell_type": "code",
   "execution_count": 2,
   "metadata": {},
   "outputs": [
    {
     "name": "stdout",
     "output_type": "stream",
     "text": [
      "Enter 0 to input a pickled dictionary, Enter 1 to have it initialized: 1\n",
      "Enter 0 to input a pickled dictionary, Enter 1 to have it initialized: 1\n",
      "Enter 0 to load an audio file, Enter 1 to record from the microphone: 0\n",
      "What's the name of the desired audio file? (Include file extension): C:\\Users\\g_bab\\Downloads\\Yakuza OST - Baka Mitai (ばかみたい) Kiryu full version.mp3\n",
      "How many seconds should the audio file be sampled for? 180\n"
     ]
    },
    {
     "name": "stderr",
     "output_type": "stream",
     "text": [
      "C:\\ProgramData\\Anaconda3\\lib\\site-packages\\librosa\\core\\audio.py:165: UserWarning: PySoundFile failed. Trying audioread instead.\n",
      "  warnings.warn(\"PySoundFile failed. Trying audioread instead.\")\n"
     ]
    },
    {
     "name": "stdout",
     "output_type": "stream",
     "text": [
      "What is the song name?baka mitai\n",
      "What is the artist name?yakuza\n",
      "89746\n",
      "1346070\n",
      "Enter 0 to add another song, Enter 1 to end0\n",
      "Enter 0 to load an audio file, Enter 1 to record from the microphone: 0\n",
      "What's the name of the desired audio file? (Include file extension): C:\\Users\\g_bab\\Downloads\\il vento d'oro.mp3\n",
      "How many seconds should the audio file be sampled for? 180\n"
     ]
    },
    {
     "name": "stderr",
     "output_type": "stream",
     "text": [
      "C:\\ProgramData\\Anaconda3\\lib\\site-packages\\librosa\\core\\audio.py:165: UserWarning: PySoundFile failed. Trying audioread instead.\n",
      "  warnings.warn(\"PySoundFile failed. Trying audioread instead.\")\n"
     ]
    },
    {
     "name": "stdout",
     "output_type": "stream",
     "text": [
      "What is the song name?il vento doro\n",
      "What is the artist name?yugo kanno\n",
      "118828\n",
      "1782300\n",
      "Enter 0 to add another song, Enter 1 to end0\n",
      "Enter 0 to load an audio file, Enter 1 to record from the microphone: 0\n",
      "What's the name of the desired audio file? (Include file extension): C:\\Users\\g_bab\\Downloads\\Nameless Song - Dark Souls Soundtrack.mp3\n",
      "How many seconds should the audio file be sampled for? 180\n",
      "What is the song name?nameless song\n",
      "What is the artist name?dark souls\n",
      "87935\n",
      "1318905\n",
      "Enter 0 to add another song, Enter 1 to end1\n"
     ]
    }
   ],
   "source": [
    "fingerprintdatabase = wahzam.initialize_database()\n",
    "artistdatabase = wahzam.initialize_database()\n",
    "more_recordings = 0\n",
    "while more_recordings == 0:\n",
    "    samples, times = wahzam.digital_sample()\n",
    "    songname = str(input(\"What is the song name?\"))\n",
    "    artistname = str(input(\"What is the artist name?\"))\n",
    "    artistdatabase, fingerprintdatabase = wahzam.populate_database(songname, artistname, samples, times, fingerprintdatabase, artistdatabase,  amp_min_percent= 75, cutoff = 20)\n",
    "    more_recordings = int(input(\"Enter 0 to add another song, Enter 1 to end\"))\n"
   ]
  },
  {
   "cell_type": "code",
   "execution_count": 5,
   "metadata": {
    "scrolled": false
   },
   "outputs": [
    {
     "name": "stdout",
     "output_type": "stream",
     "text": [
      "Enter 0 to load an audio file, Enter 1 to record from the microphone: 1\n",
      "How many seconds should the microphone record? 9\n",
      "Using input device 'Microphone (HD Webcam eMeet C96'\n",
      "Recording ended\n"
     ]
    }
   ],
   "source": [
    "samplesinput, timesinput = wahzam.digital_sample()\n"
   ]
  },
  {
   "cell_type": "code",
   "execution_count": 6,
   "metadata": {
    "scrolled": true
   },
   "outputs": [
    {
     "name": "stdout",
     "output_type": "stream",
     "text": [
      "7181\n",
      "107595\n"
     ]
    },
    {
     "data": {
      "text/plain": [
       "('baka mitai', 'yakuza')"
      ]
     },
     "execution_count": 6,
     "metadata": {},
     "output_type": "execute_result"
    }
   ],
   "source": [
    "wahzam.query_database(samplesinput,timesinput,fingerprintdatabase, artistdatabase, amp_min_percent = 75, cutoff = 20)"
   ]
  },
  {
   "cell_type": "code",
   "execution_count": null,
   "metadata": {},
   "outputs": [],
   "source": []
  }
 ],
 "metadata": {
  "kernelspec": {
   "display_name": "Python 3",
   "language": "python",
   "name": "python3"
  },
  "language_info": {
   "codemirror_mode": {
    "name": "ipython",
    "version": 3
   },
   "file_extension": ".py",
   "mimetype": "text/x-python",
   "name": "python",
   "nbconvert_exporter": "python",
   "pygments_lexer": "ipython3",
   "version": "3.8.5"
  }
 },
 "nbformat": 4,
 "nbformat_minor": 4
}
